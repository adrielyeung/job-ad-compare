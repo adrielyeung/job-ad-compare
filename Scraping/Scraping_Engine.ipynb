{
 "cells": [
  {
   "cell_type": "code",
   "execution_count": 3,
   "metadata": {},
   "outputs": [
    {
     "name": "stdout",
     "output_type": "stream",
     "text": [
      "https://www.monster.com/jobs/search/?q=Software-Developer&where=hong-kong\n",
      "\n",
      "http://pythonjobs.github.io/\n",
      "\n",
      "https://remote.co/remote-jobs/developer/\n",
      "\n",
      "https://hk.indeed.com/jobs?q=software+developer&l=hong+kong\n",
      "\n"
     ]
    }
   ],
   "source": [
    "from selenium import webdriver\n",
    "from bs4 import BeautifulSoup\n",
    "import pandas as pd\n",
    "import requests\n",
    "import pprint\n",
    "\n",
    "site_file = open('job_ad_sites.txt')\n",
    "sites = site_file.readlines()\n",
    "\n",
    "for site in sites:\n",
    "    page = requests.get(site)\n",
    "    soup = BeautifulSoup(page.content, 'html.parser')"
   ]
  },
  {
   "cell_type": "code",
   "execution_count": null,
   "metadata": {},
   "outputs": [],
   "source": []
  }
 ],
 "metadata": {
  "kernelspec": {
   "display_name": "Python 3",
   "language": "python",
   "name": "python3"
  },
  "language_info": {
   "codemirror_mode": {
    "name": "ipython",
    "version": 3
   },
   "file_extension": ".py",
   "mimetype": "text/x-python",
   "name": "python",
   "nbconvert_exporter": "python",
   "pygments_lexer": "ipython3",
   "version": "3.8.3"
  }
 },
 "nbformat": 4,
 "nbformat_minor": 4
}
